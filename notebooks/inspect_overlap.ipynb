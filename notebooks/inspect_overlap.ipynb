{
 "cells": [
  {
   "cell_type": "code",
   "execution_count": 1,
   "metadata": {},
   "outputs": [],
   "source": [
    "import pandas as pd"
   ]
  },
  {
   "cell_type": "code",
   "execution_count": 2,
   "metadata": {},
   "outputs": [
    {
     "name": "stdout",
     "output_type": "stream",
     "text": [
      "111009 0.29\n",
      "111211 0.36\n",
      "111312 0.34\n",
      "111413 0.33\n",
      "111514 0.27\n",
      "111716 0.25\n",
      "112112 0.23\n",
      "112314 0.23\n",
      "112516 0.28\n",
      "112920 0.31\n",
      "113215 0.2\n",
      "113316 0.25\n",
      "113619 0.32\n",
      "113922 0.31\n",
      "114116 0.27\n",
      "114217 0.28\n",
      "114318 0.24\n",
      "114419 0.28\n",
      "114621 0.21\n",
      "114823 0.26\n"
     ]
    }
   ],
   "source": [
    "dir = '/storage/home/hcoda1/0/rgao76/funROI/notebooks/data/analysis/overlap'\n",
    "for i in range(40, 80, 2):\n",
    "    df_summary = pd.read_csv(f'{dir}/overlap_{i:04d}/overlap_summary.csv')\n",
    "    df_summary = df_summary[df_summary['froi1'] == df_summary['froi2']]\n",
    "    print(df_summary['subject1'][0], df_summary['overlap'].mean().round(2).item())"
   ]
  },
  {
   "cell_type": "markdown",
   "metadata": {},
   "source": [
    "111211 -> 111312 -> 111413"
   ]
  },
  {
   "cell_type": "code",
   "execution_count": 6,
   "metadata": {},
   "outputs": [
    {
     "name": "stdout",
     "output_type": "stream",
     "text": [
      "111009 111211 0.12\n",
      "111211 111312 0.11\n",
      "111312 111413 0.15\n",
      "111413 111514 0.12\n",
      "111514 111716 0.1\n",
      "111716 112112 0.12\n",
      "112112 112314 0.15\n",
      "112314 112516 0.15\n",
      "112516 112920 0.11\n",
      "112920 113215 0.13\n",
      "113215 113316 0.12\n",
      "113316 113619 0.14\n",
      "113619 113922 0.14\n",
      "113922 114116 0.12\n",
      "114116 114217 0.12\n",
      "114217 114318 0.14\n",
      "114318 114419 0.12\n",
      "114419 114621 0.13\n",
      "114621 114823 0.12\n",
      "114823 111009 0.11\n"
     ]
    }
   ],
   "source": [
    "dir = '/storage/home/hcoda1/0/rgao76/funROI/notebooks/data/analysis/overlap'\n",
    "for i in range(41, 80, 2):\n",
    "    df_summary = pd.read_csv(f'{dir}/overlap_{i:04d}/overlap_summary.csv')\n",
    "    df_summary = df_summary[df_summary['froi1'] == df_summary['froi2']]\n",
    "    print(df_summary['subject1'][0], df_summary['subject2'][0], df_summary['overlap'].mean().round(2).item())"
   ]
  },
  {
   "cell_type": "markdown",
   "metadata": {},
   "source": [
    "111514 111716 -> 114621 114823"
   ]
  }
 ],
 "metadata": {
  "kernelspec": {
   "display_name": "funROI",
   "language": "python",
   "name": "python3"
  },
  "language_info": {
   "codemirror_mode": {
    "name": "ipython",
    "version": 3
   },
   "file_extension": ".py",
   "mimetype": "text/x-python",
   "name": "python",
   "nbconvert_exporter": "python",
   "pygments_lexer": "ipython3",
   "version": "3.12.7"
  }
 },
 "nbformat": 4,
 "nbformat_minor": 2
}
